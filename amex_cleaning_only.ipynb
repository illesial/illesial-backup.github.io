{
 "cells": [
  {
   "cell_type": "markdown",
   "metadata": {},
   "source": [
    "# Cleaning some financial data#\n",
    "---\n",
    "\n",
    "## [Osman Chaudhary](https://illesial.github.io)\n"
   ]
  },
  {
   "cell_type": "code",
   "execution_count": 2,
   "metadata": {},
   "outputs": [],
   "source": [
    "import pandas as pd\n",
    "import numpy as np\n",
    "\n",
    "import matplotlib.pyplot as plt\n",
    "import re\n",
    "import datetime as dt"
   ]
  },
  {
   "cell_type": "markdown",
   "metadata": {},
   "source": [
    "Next, we'll load our data into a pandas dataframe df using `pd.read_csv()`. The data is available in `Anothertest-master\\\\tda18may.csv`."
   ]
  },
  {
   "cell_type": "code",
   "execution_count": 3,
   "metadata": {},
   "outputs": [],
   "source": [
    "df=pd.read_csv('Anothertest-master\\\\tda18may.csv')"
   ]
  },
  {
   "cell_type": "markdown",
   "metadata": {},
   "source": [
    "Next, we'll inspect the data using `df.head()` and `df.info()`:"
   ]
  },
  {
   "cell_type": "code",
   "execution_count": 4,
   "metadata": {},
   "outputs": [
    {
     "data": {
      "text/html": [
       "<div>\n",
       "<style>\n",
       "    .dataframe thead tr:only-child th {\n",
       "        text-align: right;\n",
       "    }\n",
       "\n",
       "    .dataframe thead th {\n",
       "        text-align: left;\n",
       "    }\n",
       "\n",
       "    .dataframe tbody tr th {\n",
       "        vertical-align: top;\n",
       "    }\n",
       "</style>\n",
       "<table border=\"1\" class=\"dataframe\">\n",
       "  <thead>\n",
       "    <tr style=\"text-align: right;\">\n",
       "      <th></th>\n",
       "      <th>Customer</th>\n",
       "      <th>Trans_Date</th>\n",
       "      <th>Amount</th>\n",
       "      <th>Industry Code</th>\n",
       "      <th>DMA Code</th>\n",
       "      <th>Gender</th>\n",
       "    </tr>\n",
       "  </thead>\n",
       "  <tbody>\n",
       "    <tr>\n",
       "      <th>0</th>\n",
       "      <td>331,111,347,018</td>\n",
       "      <td>12/17/2018</td>\n",
       "      <td>17.6</td>\n",
       "      <td>6961</td>\n",
       "      <td>1</td>\n",
       "      <td>M</td>\n",
       "    </tr>\n",
       "    <tr>\n",
       "      <th>1</th>\n",
       "      <td>37,977,867,004</td>\n",
       "      <td>12/17/2018</td>\n",
       "      <td>18.9</td>\n",
       "      <td>101</td>\n",
       "      <td>1</td>\n",
       "      <td>M</td>\n",
       "    </tr>\n",
       "    <tr>\n",
       "      <th>2</th>\n",
       "      <td>4,383,462,017</td>\n",
       "      <td>12/17/2018</td>\n",
       "      <td>20</td>\n",
       "      <td>3891</td>\n",
       "      <td>1</td>\n",
       "      <td>M</td>\n",
       "    </tr>\n",
       "    <tr>\n",
       "      <th>3</th>\n",
       "      <td>825,419,827,019</td>\n",
       "      <td>12/17/2018</td>\n",
       "      <td>28.29</td>\n",
       "      <td>101</td>\n",
       "      <td>1</td>\n",
       "      <td>U</td>\n",
       "    </tr>\n",
       "    <tr>\n",
       "      <th>4</th>\n",
       "      <td>821,588,923,020</td>\n",
       "      <td>12/17/2018</td>\n",
       "      <td>2.37</td>\n",
       "      <td>5231</td>\n",
       "      <td>1</td>\n",
       "      <td>M</td>\n",
       "    </tr>\n",
       "  </tbody>\n",
       "</table>\n",
       "</div>"
      ],
      "text/plain": [
       "          Customer  Trans_Date Amount  Industry Code  DMA Code Gender\n",
       "0  331,111,347,018  12/17/2018   17.6           6961         1      M\n",
       "1   37,977,867,004  12/17/2018   18.9            101         1      M\n",
       "2    4,383,462,017  12/17/2018     20           3891         1      M\n",
       "3  825,419,827,019  12/17/2018  28.29            101         1      U\n",
       "4  821,588,923,020  12/17/2018   2.37           5231         1      M"
      ]
     },
     "execution_count": 4,
     "metadata": {},
     "output_type": "execute_result"
    }
   ],
   "source": [
    "df.head()"
   ]
  },
  {
   "cell_type": "code",
   "execution_count": 5,
   "metadata": {},
   "outputs": [
    {
     "name": "stdout",
     "output_type": "stream",
     "text": [
      "<class 'pandas.core.frame.DataFrame'>\n",
      "RangeIndex: 290 entries, 0 to 289\n",
      "Data columns (total 6 columns):\n",
      "Customer         290 non-null object\n",
      "Trans_Date       290 non-null object\n",
      "Amount           290 non-null object\n",
      "Industry Code    290 non-null int64\n",
      "DMA Code         290 non-null int64\n",
      "Gender           290 non-null object\n",
      "dtypes: int64(2), object(4)\n",
      "memory usage: 9.1+ KB\n"
     ]
    }
   ],
   "source": [
    "df.info()"
   ]
  },
  {
   "cell_type": "markdown",
   "metadata": {},
   "source": [
    "It Looks like none of the data is null, so we don't have to drop any rows. We should clean some of the columns up, however. The `Trans_Date` column should be conveted to a DateTimeIndex, the commas should be dropped from the `Customer` column, and the type of `Amount` should be `float`. "
   ]
  },
  {
   "cell_type": "code",
   "execution_count": 6,
   "metadata": {},
   "outputs": [],
   "source": [
    "df['Trans_Date'] = pd.to_datetime(df['Trans_Date'])"
   ]
  },
  {
   "cell_type": "code",
   "execution_count": 7,
   "metadata": {},
   "outputs": [],
   "source": [
    "df['Customer']=df['Customer'].apply(lambda x: re.sub(',', '', x))"
   ]
  },
  {
   "cell_type": "markdown",
   "metadata": {},
   "source": [
    "It turns out there are also commas that need to be dropped from the `Amount` column. Therefore we `.apply()` to this column a lambda function which removes the commas (using the regular expressions package `re`), and converts each entry to a `float`:"
   ]
  },
  {
   "cell_type": "code",
   "execution_count": 8,
   "metadata": {},
   "outputs": [],
   "source": [
    "df['Amount']=df['Amount'].apply(lambda x: float(re.sub(',', '', x)))"
   ]
  },
  {
   "cell_type": "markdown",
   "metadata": {},
   "source": [
    "Let's take a look at our data again using `df.head()`:"
   ]
  },
  {
   "cell_type": "code",
   "execution_count": 9,
   "metadata": {},
   "outputs": [
    {
     "data": {
      "text/html": [
       "<div>\n",
       "<style>\n",
       "    .dataframe thead tr:only-child th {\n",
       "        text-align: right;\n",
       "    }\n",
       "\n",
       "    .dataframe thead th {\n",
       "        text-align: left;\n",
       "    }\n",
       "\n",
       "    .dataframe tbody tr th {\n",
       "        vertical-align: top;\n",
       "    }\n",
       "</style>\n",
       "<table border=\"1\" class=\"dataframe\">\n",
       "  <thead>\n",
       "    <tr style=\"text-align: right;\">\n",
       "      <th></th>\n",
       "      <th>Customer</th>\n",
       "      <th>Trans_Date</th>\n",
       "      <th>Amount</th>\n",
       "      <th>Industry Code</th>\n",
       "      <th>DMA Code</th>\n",
       "      <th>Gender</th>\n",
       "    </tr>\n",
       "  </thead>\n",
       "  <tbody>\n",
       "    <tr>\n",
       "      <th>0</th>\n",
       "      <td>331111347018</td>\n",
       "      <td>2018-12-17</td>\n",
       "      <td>17.60</td>\n",
       "      <td>6961</td>\n",
       "      <td>1</td>\n",
       "      <td>M</td>\n",
       "    </tr>\n",
       "    <tr>\n",
       "      <th>1</th>\n",
       "      <td>37977867004</td>\n",
       "      <td>2018-12-17</td>\n",
       "      <td>18.90</td>\n",
       "      <td>101</td>\n",
       "      <td>1</td>\n",
       "      <td>M</td>\n",
       "    </tr>\n",
       "    <tr>\n",
       "      <th>2</th>\n",
       "      <td>4383462017</td>\n",
       "      <td>2018-12-17</td>\n",
       "      <td>20.00</td>\n",
       "      <td>3891</td>\n",
       "      <td>1</td>\n",
       "      <td>M</td>\n",
       "    </tr>\n",
       "    <tr>\n",
       "      <th>3</th>\n",
       "      <td>825419827019</td>\n",
       "      <td>2018-12-17</td>\n",
       "      <td>28.29</td>\n",
       "      <td>101</td>\n",
       "      <td>1</td>\n",
       "      <td>U</td>\n",
       "    </tr>\n",
       "    <tr>\n",
       "      <th>4</th>\n",
       "      <td>821588923020</td>\n",
       "      <td>2018-12-17</td>\n",
       "      <td>2.37</td>\n",
       "      <td>5231</td>\n",
       "      <td>1</td>\n",
       "      <td>M</td>\n",
       "    </tr>\n",
       "  </tbody>\n",
       "</table>\n",
       "</div>"
      ],
      "text/plain": [
       "       Customer Trans_Date  Amount  Industry Code  DMA Code Gender\n",
       "0  331111347018 2018-12-17   17.60           6961         1      M\n",
       "1   37977867004 2018-12-17   18.90            101         1      M\n",
       "2    4383462017 2018-12-17   20.00           3891         1      M\n",
       "3  825419827019 2018-12-17   28.29            101         1      U\n",
       "4  821588923020 2018-12-17    2.37           5231         1      M"
      ]
     },
     "execution_count": 9,
     "metadata": {},
     "output_type": "execute_result"
    }
   ],
   "source": [
    "df.head()"
   ]
  },
  {
   "cell_type": "markdown",
   "metadata": {},
   "source": [
    "It may be useful later to remap the `Gender` column to numerical values. We'll set M, F, and U to 0, 1, and 2 respectively by defining the following dictionary `gender_map`, and then applying this dictionary to the `Gender` column using a lambda function:"
   ]
  },
  {
   "cell_type": "code",
   "execution_count": 10,
   "metadata": {},
   "outputs": [],
   "source": [
    "gender_map = {'M': 0, 'F': 1, 'U':2}"
   ]
  },
  {
   "cell_type": "code",
   "execution_count": 11,
   "metadata": {},
   "outputs": [],
   "source": [
    "df['Gender']=df['Gender'].apply(lambda x: gender_map[x])"
   ]
  },
  {
   "cell_type": "markdown",
   "metadata": {},
   "source": [
    "Let's inspect the `Customer`, `Industry Code`, and `DMA Code` columns to see if there are any repeat values, using `pd.value_counts()`:"
   ]
  },
  {
   "cell_type": "code",
   "execution_count": 12,
   "metadata": {},
   "outputs": [
    {
     "data": {
      "text/plain": [
       "147165773020    10\n",
       "23976798020      8\n",
       "24386790013      7\n",
       "27360656016      7\n",
       "719651232017     6\n",
       "Name: Customer, dtype: int64"
      ]
     },
     "execution_count": 12,
     "metadata": {},
     "output_type": "execute_result"
    }
   ],
   "source": [
    "df['Customer'].value_counts().head()"
   ]
  },
  {
   "cell_type": "code",
   "execution_count": 13,
   "metadata": {},
   "outputs": [
    {
     "data": {
      "text/plain": [
       "9861    28\n",
       "101     27\n",
       "1701    16\n",
       "3971    14\n",
       "5181    10\n",
       "Name: Industry Code, dtype: int64"
      ]
     },
     "execution_count": 13,
     "metadata": {},
     "output_type": "execute_result"
    }
   ],
   "source": [
    "df['Industry Code'].value_counts().head()"
   ]
  },
  {
   "cell_type": "code",
   "execution_count": 14,
   "metadata": {},
   "outputs": [
    {
     "data": {
      "text/plain": [
       "1       141\n",
       "5011    136\n",
       "5001     13\n",
       "Name: DMA Code, dtype: int64"
      ]
     },
     "execution_count": 14,
     "metadata": {},
     "output_type": "execute_result"
    }
   ],
   "source": [
    "df['DMA Code'].value_counts()"
   ]
  },
  {
   "cell_type": "markdown",
   "metadata": {},
   "source": [
    "Looks like there are repeat values for all three of these columns. In particular, there are only three unique `DMA Code` values.\n",
    "\n",
    "Let's proceed by calculating the total amount spent for each customer. We'll do this by using `df.groupby()`; we'll group by the `Customer` column, and aggregate using `.agg()`. We'll aggregate the `Amount` column, via the `sum()` function. Finally we'll sort the result by the `Amount` column in descending order, and get the values using `.values`. The result is stored in the variable `customer_amounts`. "
   ]
  },
  {
   "cell_type": "code",
   "execution_count": 15,
   "metadata": {},
   "outputs": [],
   "source": [
    "customer_amounts=df.groupby('Customer').agg({'Amount': lambda x: sum(x)}).sort_values(by='Amount', ascending = False).values"
   ]
  },
  {
   "cell_type": "markdown",
   "metadata": {},
   "source": [
    "Let's look at the top 5 customer amounts by \"slicing\" the array (the part where I subset by using `[:5]`):"
   ]
  },
  {
   "cell_type": "code",
   "execution_count": 16,
   "metadata": {},
   "outputs": [
    {
     "data": {
      "text/plain": [
       "array([[9294.36],\n",
       "       [3753.26],\n",
       "       [2854.4 ],\n",
       "       [2358.19],\n",
       "       [2175.14]])"
      ]
     },
     "execution_count": 16,
     "metadata": {},
     "output_type": "execute_result"
    }
   ],
   "source": [
    "customer_amounts[:5]"
   ]
  },
  {
   "cell_type": "markdown",
   "metadata": {},
   "source": [
    "Next we'll plot the customer amounts using `plt.plot()` and `plt.hist()`. In the first plot, the vertical axis is dollars and the horizontal axis is just the customer index (just a meaningless label here)."
   ]
  },
  {
   "cell_type": "code",
   "execution_count": 17,
   "metadata": {},
   "outputs": [
    {
     "data": {
      "image/png": "[encoded data removed]",
      "text/plain": [
       "<matplotlib.figure.Figure at 0x7b5ef10>"
      ]
     },
     "metadata": {},
     "output_type": "display_data"
    }
   ],
   "source": [
    "plt.clf()\n",
    "plt.plot(customer_amounts)\n",
    "plt.show()"
   ]
  },
  {
   "cell_type": "markdown",
   "metadata": {},
   "source": [
    "Next we have a histogram. The horizontal axis is bins of dollar ranges and the vertical axis is the number of occurences in that range."
   ]
  },
  {
   "cell_type": "code",
   "execution_count": 18,
   "metadata": {},
   "outputs": [
    {
     "data": {
      "image/png": "[encoded data removed]",
      "text/plain": [
       "<matplotlib.figure.Figure at 0x9243c90>"
      ]
     },
     "metadata": {},
     "output_type": "display_data"
    }
   ],
   "source": [
    "plt.clf()\n",
    "plt.hist(customer_amounts, bins = 20)\n",
    "plt.show()"
   ]
  },
  {
   "cell_type": "markdown",
   "metadata": {},
   "source": [
    "Finally we'll take a closer look at the transactions under 500 Dollars. We'll do this by turning the numpy array customer_amounts into a pandas series, then subset it by only choosing those values under 500. Finally we'll plot the histogram."
   ]
  },
  {
   "cell_type": "code",
   "execution_count": 19,
   "metadata": {},
   "outputs": [],
   "source": [
    "customer_amounts_series=pd.Series(customer_amounts.flatten())"
   ]
  },
  {
   "cell_type": "code",
   "execution_count": 20,
   "metadata": {},
   "outputs": [],
   "source": [
    "customer_amounts_under_500 = customer_amounts_series[customer_amounts_series < 500]"
   ]
  },
  {
   "cell_type": "code",
   "execution_count": 21,
   "metadata": {},
   "outputs": [
    {
     "data": {
      "image/png": "[encoded data removed]",
      "text/plain": [
       "<matplotlib.figure.Figure at 0xa84fc90>"
      ]
     },
     "metadata": {},
     "output_type": "display_data"
    }
   ],
   "source": [
    "plt.clf()\n",
    "plt.hist(customer_amounts_under_500, bins = 35)\n",
    "plt.show()"
   ]
  }
 ],
 "metadata": {
  "kernelspec": {
   "display_name": "Python 3",
   "language": "python",
   "name": "python3"
  },
  "language_info": {
   "codemirror_mode": {
    "name": "ipython",
    "version": 3
   },
   "file_extension": ".py",
   "mimetype": "text/x-python",
   "name": "python",
   "nbconvert_exporter": "python",
   "pygments_lexer": "ipython3",
   "version": "3.6.2"
  }
 },
 "nbformat": 4,
 "nbformat_minor": 2
}
